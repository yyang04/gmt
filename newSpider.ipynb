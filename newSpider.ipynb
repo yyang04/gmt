{
 "cells": [
  {
   "cell_type": "code",
   "execution_count": 42,
   "id": "e9060365",
   "metadata": {
    "ExecuteTime": {
     "end_time": "2024-03-24T06:29:59.250515Z",
     "start_time": "2024-03-24T06:29:55.848169Z"
    }
   },
   "outputs": [],
   "source": [
    "from selenium import webdriver\n",
    "from webdriver_manager.chrome import ChromeDriverManager\n",
    "from selenium.webdriver.chrome.service import Service as ChromeService\n",
    "from selenium.webdriver.common.by import By\n",
    "import time\n",
    "import re\n",
    "import pandas as pd\n",
    "import random\n",
    "\n",
    "options = webdriver.ChromeOptions()\n",
    "options.binary_location = r\"/Applications/Google Chrome.app/Contents/MacOS/Google Chrome\"\n",
    "options.add_argument(r'/Users/guanmengting/Library/Application Support/Google/Chrome/')\n",
    "# options.binary_location = r\"C:\\Program Files\\Google\\Chrome\\Application\\chrome.exe\"\n",
    "# options.add_argument(r\"C:\\Users\\yufeng\\AppData\\Local\\Google\\Chrome\\User Data\\Profile 2\")\n",
    "options.add_argument('--disable-blink-features=AutomationControlled')\n",
    "driver = webdriver.Chrome(service=ChromeService(ChromeDriverManager().install()), options=options)"
   ]
  },
  {
   "cell_type": "code",
   "outputs": [],
   "source": [
    "def current_window():\n",
    "    windowstabs = driver.window_handles\n",
    "    current = driver.current_window_handle\n",
    "    return windowstabs.index(current)\n",
    "\n",
    "def switch_window(index):\n",
    "    windowstabs = driver.window_handles\n",
    "    driver.switch_to.window(windowstabs[index])\n",
    "    return current_window()\n",
    "\n",
    "def close_window():\n",
    "    driver.close()\n",
    "    switch_window(-1)\n",
    "    \n",
    "def parse_web_page():\n",
    "    switch_window(-1)\n",
    "    if driver.find_elements(By.CSS_SELECTOR, 'div.J_MIDDLEWARE_FRAME_WIDGET'):\n",
    "        input(\"完成验证后回车\")\n",
    "    item_name = driver.find_element(By.CSS_SELECTOR, 'h1.ItemHeader--mainTitle--3CIjqW5').text if driver.find_element(By.CSS_SELECTOR, 'h1.ItemHeader--mainTitle--3CIjqW5') else \"\"\n",
    "    sale_month = driver.find_element(By.CSS_SELECTOR, 'span.ItemHeader--salesDesc--srlk2Hv').text if driver.find_element(By.CSS_SELECTOR, 'span.ItemHeader--salesDesc--srlk2Hv') else \"\"\n",
    "    skuValueName = [element.text for element in driver.find_elements(By.CSS_SELECTOR, 'span.skuValueName')] if driver.find_elements(By.CSS_SELECTOR, 'span.skuValueName') else []\n",
    "    price = driver.find_element(By.CSS_SELECTOR, 'span.Price--priceText--2nLbVda').text if driver.find_element(By.CSS_SELECTOR, 'span.Price--priceText--2nLbVda') else \"\"\n",
    "    sales_price = driver.find_elements(By.CSS_SELECTOR, 'span.Price--extraPriceText--2dbLkGw')\n",
    "    sales_price = sales_price[0].text if sales_price else -1\n",
    "\n",
    "    ret = {\n",
    "        \"item_name\": item_name,\n",
    "        \"sale_month\": re.search(r'\\d+', sale_month).group(0),\n",
    "        \"skuValueName\": skuValueName,\n",
    "        \"price\": price,\n",
    "        \"sales_price\": sales_price,\n",
    "        \"link\": driver.current_url\n",
    "    }\n",
    "    close_window()\n",
    "    return ret\n",
    "\n",
    "def sleep():\n",
    "    time.sleep(2 * random.random() + 4)\n",
    "    "
   ],
   "metadata": {
    "collapsed": false,
    "ExecuteTime": {
     "end_time": "2024-03-24T06:56:35.114424Z",
     "start_time": "2024-03-24T06:56:35.104668Z"
    }
   },
   "id": "fb0e159d0f1ed007",
   "execution_count": 75
  },
  {
   "cell_type": "code",
   "execution_count": 52,
   "id": "4782936c",
   "metadata": {
    "ExecuteTime": {
     "end_time": "2024-03-24T06:42:35.738376Z",
     "start_time": "2024-03-24T06:42:34.919895Z"
    }
   },
   "outputs": [],
   "source": [
    "# Step1: 扫码登录淘宝\n",
    "# Step2: 然后进到淘宝店里面\n",
    "driver.get(\"https://www.taobao.com\")\n",
    "try:\n",
    "    driver.find_element(By.LINK_TEXT, \"亲，请登录\").click()\n",
    "    driver.find_element(By.CSS_SELECTOR, \"i.iconfont.icon-qrcode\").click()\n",
    "except Exception as e:\n",
    "    pass"
   ]
  },
  {
   "cell_type": "code",
   "outputs": [],
   "source": [],
   "metadata": {
    "collapsed": false
   },
   "id": "930abd28132fb54d"
  },
  {
   "cell_type": "code",
   "outputs": [
    {
     "data": {
      "text/plain": "[<selenium.webdriver.remote.webelement.WebElement (session=\"7f8b96e53e4931054e20584a44ca42ba\", element=\"f.42A238F8962978D845C8729E38DF0444.d.DF542295F51E6C467A274E0196BE59AA.e.65\")>]"
     },
     "execution_count": 74,
     "metadata": {},
     "output_type": "execute_result"
    }
   ],
   "source": [],
   "metadata": {
    "collapsed": false,
    "ExecuteTime": {
     "end_time": "2024-03-24T06:53:58.185108Z",
     "start_time": "2024-03-24T06:53:58.166826Z"
    }
   },
   "id": "cc590301496d48ea",
   "execution_count": 74
  },
  {
   "cell_type": "code",
   "execution_count": 76,
   "id": "9edcd839",
   "metadata": {
    "ExecuteTime": {
     "end_time": "2024-03-24T06:56:53.540180Z",
     "start_time": "2024-03-24T06:56:53.510895Z"
    }
   },
   "outputs": [
    {
     "data": {
      "text/plain": "1"
     },
     "execution_count": 76,
     "metadata": {},
     "output_type": "execute_result"
    }
   ],
   "source": [
    "# Step3: 关闭其他标签页，运行完这段代码，所有宝贝页面要在active状态\n",
    "switch_window(-1)"
   ]
  },
  {
   "cell_type": "code",
   "outputs": [
    {
     "name": "stdout",
     "output_type": "stream",
     "text": [
      "<selenium.webdriver.remote.webelement.WebElement (session=\"7f8b96e53e4931054e20584a44ca42ba\", element=\"f.FBCC808106C0C8BA09653029FD5699CE.d.AC6836672633484FAEAD529DF7B92D1F.e.639\")>\n",
      "<selenium.webdriver.remote.webelement.WebElement (session=\"7f8b96e53e4931054e20584a44ca42ba\", element=\"f.FBCC808106C0C8BA09653029FD5699CE.d.AC6836672633484FAEAD529DF7B92D1F.e.636\")>\n",
      "<selenium.webdriver.remote.webelement.WebElement (session=\"7f8b96e53e4931054e20584a44ca42ba\", element=\"f.FBCC808106C0C8BA09653029FD5699CE.d.AC6836672633484FAEAD529DF7B92D1F.e.697\")>\n",
      "<selenium.webdriver.remote.webelement.WebElement (session=\"7f8b96e53e4931054e20584a44ca42ba\", element=\"f.FBCC808106C0C8BA09653029FD5699CE.d.AC6836672633484FAEAD529DF7B92D1F.e.698\")>\n",
      "<selenium.webdriver.remote.webelement.WebElement (session=\"7f8b96e53e4931054e20584a44ca42ba\", element=\"f.FBCC808106C0C8BA09653029FD5699CE.d.AC6836672633484FAEAD529DF7B92D1F.e.699\")>\n",
      "<selenium.webdriver.remote.webelement.WebElement (session=\"7f8b96e53e4931054e20584a44ca42ba\", element=\"f.FBCC808106C0C8BA09653029FD5699CE.d.AC6836672633484FAEAD529DF7B92D1F.e.700\")>\n",
      "<selenium.webdriver.remote.webelement.WebElement (session=\"7f8b96e53e4931054e20584a44ca42ba\", element=\"f.FBCC808106C0C8BA09653029FD5699CE.d.AC6836672633484FAEAD529DF7B92D1F.e.702\")>\n",
      "<selenium.webdriver.remote.webelement.WebElement (session=\"7f8b96e53e4931054e20584a44ca42ba\", element=\"f.FBCC808106C0C8BA09653029FD5699CE.d.AC6836672633484FAEAD529DF7B92D1F.e.703\")>\n",
      "<selenium.webdriver.remote.webelement.WebElement (session=\"7f8b96e53e4931054e20584a44ca42ba\", element=\"f.FBCC808106C0C8BA09653029FD5699CE.d.AC6836672633484FAEAD529DF7B92D1F.e.704\")>\n",
      "<selenium.webdriver.remote.webelement.WebElement (session=\"7f8b96e53e4931054e20584a44ca42ba\", element=\"f.FBCC808106C0C8BA09653029FD5699CE.d.AC6836672633484FAEAD529DF7B92D1F.e.706\")>\n",
      "<selenium.webdriver.remote.webelement.WebElement (session=\"7f8b96e53e4931054e20584a44ca42ba\", element=\"f.FBCC808106C0C8BA09653029FD5699CE.d.AC6836672633484FAEAD529DF7B92D1F.e.707\")>\n",
      "<selenium.webdriver.remote.webelement.WebElement (session=\"7f8b96e53e4931054e20584a44ca42ba\", element=\"f.FBCC808106C0C8BA09653029FD5699CE.d.AC6836672633484FAEAD529DF7B92D1F.e.708\")>\n",
      "正在获取第1页第12个产品\r"
     ]
    },
    {
     "ename": "KeyboardInterrupt",
     "evalue": "",
     "output_type": "error",
     "traceback": [
      "\u001B[1;31m---------------------------------------------------------------------------\u001B[0m",
      "\u001B[1;31mKeyboardInterrupt\u001B[0m                         Traceback (most recent call last)",
      "Cell \u001B[1;32mIn[77], line 15\u001B[0m\n\u001B[0;32m     13\u001B[0m spu\u001B[38;5;241m.\u001B[39mfind_element(By\u001B[38;5;241m.\u001B[39mCSS_SELECTOR, \u001B[38;5;124m'\u001B[39m\u001B[38;5;124ma.item-name\u001B[39m\u001B[38;5;124m'\u001B[39m)\u001B[38;5;241m.\u001B[39mclick()\n\u001B[0;32m     14\u001B[0m \u001B[38;5;28mprint\u001B[39m(\u001B[38;5;124mf\u001B[39m\u001B[38;5;124m\"\u001B[39m\u001B[38;5;124m正在获取第\u001B[39m\u001B[38;5;132;01m{\u001B[39;00mpage\u001B[38;5;132;01m}\u001B[39;00m\u001B[38;5;124m页第\u001B[39m\u001B[38;5;132;01m{\u001B[39;00mindex\u001B[38;5;132;01m}\u001B[39;00m\u001B[38;5;124m个产品\u001B[39m\u001B[38;5;124m\"\u001B[39m, end\u001B[38;5;241m=\u001B[39m\u001B[38;5;124m'\u001B[39m\u001B[38;5;130;01m\\r\u001B[39;00m\u001B[38;5;124m'\u001B[39m)\n\u001B[1;32m---> 15\u001B[0m \u001B[43msleep\u001B[49m\u001B[43m(\u001B[49m\u001B[43m)\u001B[49m\n\u001B[0;32m     16\u001B[0m resultEntity \u001B[38;5;241m=\u001B[39m parse_web_page()\n\u001B[0;32m     17\u001B[0m total_sale \u001B[38;5;241m=\u001B[39m spu\u001B[38;5;241m.\u001B[39mfind_element(By\u001B[38;5;241m.\u001B[39mCSS_SELECTOR, \u001B[38;5;124m'\u001B[39m\u001B[38;5;124mspan.sale-num\u001B[39m\u001B[38;5;124m'\u001B[39m)\u001B[38;5;241m.\u001B[39mtext\n",
      "Cell \u001B[1;32mIn[75], line 38\u001B[0m, in \u001B[0;36msleep\u001B[1;34m()\u001B[0m\n\u001B[0;32m     37\u001B[0m \u001B[38;5;28;01mdef\u001B[39;00m \u001B[38;5;21msleep\u001B[39m():\n\u001B[1;32m---> 38\u001B[0m     \u001B[43mtime\u001B[49m\u001B[38;5;241;43m.\u001B[39;49m\u001B[43msleep\u001B[49m\u001B[43m(\u001B[49m\u001B[38;5;241;43m2\u001B[39;49m\u001B[43m \u001B[49m\u001B[38;5;241;43m*\u001B[39;49m\u001B[43m \u001B[49m\u001B[43mrandom\u001B[49m\u001B[38;5;241;43m.\u001B[39;49m\u001B[43mrandom\u001B[49m\u001B[43m(\u001B[49m\u001B[43m)\u001B[49m\u001B[43m \u001B[49m\u001B[38;5;241;43m+\u001B[39;49m\u001B[43m \u001B[49m\u001B[38;5;241;43m4\u001B[39;49m\u001B[43m)\u001B[49m\n",
      "\u001B[1;31mKeyboardInterrupt\u001B[0m: "
     ]
    }
   ],
   "source": [
    "result = []\n",
    "Pagination = True\n",
    "page = 1\n",
    "\n",
    "while Pagination:\n",
    "    index = 1\n",
    "    itemList = driver.find_elements(By.CSS_SELECTOR, \"div.J_TItems > *\") + driver.find_elements(By.CSS_SELECTOR, \"div.shop-hesper-bd > *\")\n",
    "    for item in itemList:\n",
    "        try:\n",
    "            if item.get_attribute(\"class\") in [\"item3line1\", \"item4line1\", \"item5line1\"]:\n",
    "                for spu in item.find_elements(By.CSS_SELECTOR, \"dd.detail\"):\n",
    "                    spu.find_element(By.CSS_SELECTOR, 'a.item-name').click()\n",
    "                    print(f\"正在获取第{page}页第{index}个产品\", end='\\r')\n",
    "                    sleep()\n",
    "                    resultEntity = parse_web_page()\n",
    "                    total_sale = spu.find_element(By.CSS_SELECTOR, 'span.sale-num').text\n",
    "                    resultEntity.update({'total_sale': re.search(r'\\d+', total_sale.replace('万', '0000')).group(0)})\n",
    "                    result.append(resultEntity)\n",
    "                    index += 1\n",
    "    \n",
    "            if item.get_attribute(\"class\") == \"pagination\":\n",
    "                nextPage = item.find_element(By.LINK_TEXT, \"下一页\")\n",
    "                if nextPage.get_attribute(\"class\") == \"disable\":\n",
    "                    Pagination = False\n",
    "                else:\n",
    "                    item.find_element(By.LINK_TEXT, \"下一页\").click()\n",
    "                    page += 1\n",
    "                    sleep()\n",
    "                break\n",
    "        except Exception as e:\n",
    "            print(e)\n",
    "            close_window()\n",
    "            "
   ],
   "metadata": {
    "collapsed": false,
    "ExecuteTime": {
     "end_time": "2024-03-24T06:58:00.941519Z",
     "start_time": "2024-03-24T06:56:54.449880Z"
    }
   },
   "id": "523381a63193216f",
   "execution_count": 77
  },
  {
   "cell_type": "code",
   "execution_count": 75,
   "id": "9d1a7dc2",
   "metadata": {
    "ExecuteTime": {
     "end_time": "2024-03-24T05:59:24.424766Z",
     "start_time": "2024-03-24T05:59:24.410256Z"
    }
   },
   "outputs": [
    {
     "data": {
      "text/plain": "                                           item_name sale_month  \\\n0  高档精致金属书签定制礼盒文创产品小礼品故宫风敦煌创意古典中国风博物馆古风生日礼物清华大学纪念...       2000   \n1  仙鹤折扇玫瑰金金属艺术流苏书签礼盒 创意古典中国风送老师学生精美文艺文创产品纪念品商务小礼品...        300   \n2  千里江山金属黄铜书签签字笔笔记本U盘套装企业定制logo刻字精美古典中国风创意文创产品纪念商...       3000   \n3  复古典红木质流苏书签 中国风创意文艺黑檀木学生免费刻字送老师同学个性手工公司商务小礼品个性免费定制        600   \n4  故宫金属千里江山图黄铜书签刻字 古典中国风送老师学生用简约文艺创意文创产品精美礼物纪念品礼品...        100   \n\n                                        skuValueName price sales_price  \\\n0  [乐舞飞天 - 单枚礼盒装, 九色迷鹿 - 单枚礼盒装, 宝相佛莲 - 单枚礼盒装, 琵琶弦...  18.2          -1   \n1  [九色灵狐 折扇书签, 云鹤浪空 折扇书签, 凤舞九天 折扇书签, 敦煌飞天 折扇书签, 江...  26.8        24.8   \n2  [千里江山文艺两件套（酸枝）, 千里江山文艺两件套（黑檀）, 千里江山文艺两件套（紫檀）, ...  29.4        27.4   \n3  [花梨木/天道酬勤, 花梨木/上善若水, 花梨木/静思, 花梨木/远见, 花梨木/梅, 花梨...  18.8          -1   \n4  [千里江山图单枚书签, 池塘睡莲图单枚书签, 宋微宗瑞鹤图单枚书签, 神奈川冲浪里单枚书签,...  22.8          -1   \n\n                                                link total_sale  \n0  https://detail.tmall.com/item.htm?abbucket=12&...      40000  \n1  https://detail.tmall.com/item.htm?abbucket=12&...       3000  \n2  https://detail.tmall.com/item.htm?abbucket=12&...       8000  \n3  https://detail.tmall.com/item.htm?abbucket=12&...       5000  \n4  https://detail.tmall.com/item.htm?abbucket=12&...       3000  ",
      "text/html": "<div>\n<style scoped>\n    .dataframe tbody tr th:only-of-type {\n        vertical-align: middle;\n    }\n\n    .dataframe tbody tr th {\n        vertical-align: top;\n    }\n\n    .dataframe thead th {\n        text-align: right;\n    }\n</style>\n<table border=\"1\" class=\"dataframe\">\n  <thead>\n    <tr style=\"text-align: right;\">\n      <th></th>\n      <th>item_name</th>\n      <th>sale_month</th>\n      <th>skuValueName</th>\n      <th>price</th>\n      <th>sales_price</th>\n      <th>link</th>\n      <th>total_sale</th>\n    </tr>\n  </thead>\n  <tbody>\n    <tr>\n      <th>0</th>\n      <td>高档精致金属书签定制礼盒文创产品小礼品故宫风敦煌创意古典中国风博物馆古风生日礼物清华大学纪念...</td>\n      <td>2000</td>\n      <td>[乐舞飞天 - 单枚礼盒装, 九色迷鹿 - 单枚礼盒装, 宝相佛莲 - 单枚礼盒装, 琵琶弦...</td>\n      <td>18.2</td>\n      <td>-1</td>\n      <td>https://detail.tmall.com/item.htm?abbucket=12&amp;...</td>\n      <td>40000</td>\n    </tr>\n    <tr>\n      <th>1</th>\n      <td>仙鹤折扇玫瑰金金属艺术流苏书签礼盒 创意古典中国风送老师学生精美文艺文创产品纪念品商务小礼品...</td>\n      <td>300</td>\n      <td>[九色灵狐 折扇书签, 云鹤浪空 折扇书签, 凤舞九天 折扇书签, 敦煌飞天 折扇书签, 江...</td>\n      <td>26.8</td>\n      <td>24.8</td>\n      <td>https://detail.tmall.com/item.htm?abbucket=12&amp;...</td>\n      <td>3000</td>\n    </tr>\n    <tr>\n      <th>2</th>\n      <td>千里江山金属黄铜书签签字笔笔记本U盘套装企业定制logo刻字精美古典中国风创意文创产品纪念商...</td>\n      <td>3000</td>\n      <td>[千里江山文艺两件套（酸枝）, 千里江山文艺两件套（黑檀）, 千里江山文艺两件套（紫檀）, ...</td>\n      <td>29.4</td>\n      <td>27.4</td>\n      <td>https://detail.tmall.com/item.htm?abbucket=12&amp;...</td>\n      <td>8000</td>\n    </tr>\n    <tr>\n      <th>3</th>\n      <td>复古典红木质流苏书签 中国风创意文艺黑檀木学生免费刻字送老师同学个性手工公司商务小礼品个性免费定制</td>\n      <td>600</td>\n      <td>[花梨木/天道酬勤, 花梨木/上善若水, 花梨木/静思, 花梨木/远见, 花梨木/梅, 花梨...</td>\n      <td>18.8</td>\n      <td>-1</td>\n      <td>https://detail.tmall.com/item.htm?abbucket=12&amp;...</td>\n      <td>5000</td>\n    </tr>\n    <tr>\n      <th>4</th>\n      <td>故宫金属千里江山图黄铜书签刻字 古典中国风送老师学生用简约文艺创意文创产品精美礼物纪念品礼品...</td>\n      <td>100</td>\n      <td>[千里江山图单枚书签, 池塘睡莲图单枚书签, 宋微宗瑞鹤图单枚书签, 神奈川冲浪里单枚书签,...</td>\n      <td>22.8</td>\n      <td>-1</td>\n      <td>https://detail.tmall.com/item.htm?abbucket=12&amp;...</td>\n      <td>3000</td>\n    </tr>\n  </tbody>\n</table>\n</div>"
     },
     "execution_count": 75,
     "metadata": {},
     "output_type": "execute_result"
    }
   ],
   "source": [
    "df = pd.DataFrame(result)\n",
    "df"
   ]
  },
  {
   "cell_type": "code",
   "execution_count": 21,
   "id": "036aaa8d",
   "metadata": {},
   "outputs": [],
   "source": [
    "df.to_excel(\"result.xlsx\")"
   ]
  }
 ],
 "metadata": {
  "kernelspec": {
   "display_name": "Python 3 (ipykernel)",
   "language": "python",
   "name": "python3"
  },
  "language_info": {
   "codemirror_mode": {
    "name": "ipython",
    "version": 3
   },
   "file_extension": ".py",
   "mimetype": "text/x-python",
   "name": "python",
   "nbconvert_exporter": "python",
   "pygments_lexer": "ipython3",
   "version": "3.10.9"
  }
 },
 "nbformat": 4,
 "nbformat_minor": 5
}
